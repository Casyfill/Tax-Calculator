{
 "cells": [
  {
   "cell_type": "code",
   "execution_count": 23,
   "metadata": {},
   "outputs": [],
   "source": [
    "import os\n",
    "path = \"C:\\\\Users\\\\derrick.choe\\\\Tax-Calculator\\\\\"\n",
    "os.chdir(path)\n",
    "import taxcalc as tc\n",
    "import pandas as pd\n",
    "import numpy as np\n",
    "import copy"
   ]
  },
  {
   "cell_type": "code",
   "execution_count": 24,
   "metadata": {},
   "outputs": [],
   "source": [
    "# 2017 law and 2017 law + bases\n",
    "path_name = path + 'taxcalc\\\\reforms\\\\2017_law.json'\n",
    "jfile = open(path_name, 'r')\n",
    "jtext = jfile.read()\n",
    "jfile.close()\n",
    "\n",
    "# baseline dictionary\n",
    "base = tc.Calculator.read_json_param_objects(jtext, None)['policy']\n",
    "\n",
    "# reform dictionary\n",
    "reform = copy.deepcopy(base)\n",
    "reform[2013] = {}\n",
    "reform[2013]['_ID_Charity_hc'] = [1]\n",
    "reform[2013]['_CR_Charity_rt'] = [0.3]\n",
    "reform[2013]['_CR_Charity_frt'] = [0.005]\n",
    "\n",
    "pol = tc.Policy()\n",
    "pol1 = tc.Policy()\n",
    "pol.implement_reform(base)\n",
    "pol1.implement_reform(reform)"
   ]
  },
  {
   "cell_type": "code",
   "execution_count": 25,
   "metadata": {},
   "outputs": [
    {
     "name": "stdout",
     "output_type": "stream",
     "text": [
      "You loaded data for 2011.\n",
      "Your data include the following unused variables that will be ignored:\n",
      "  elderly_dependent\n",
      "Tax-Calculator startup automatically extrapolated your data to 2013.\n"
     ]
    }
   ],
   "source": [
    "# Baseline calculator\n",
    "calc = tc.Calculator(records = tc.Records(), policy = pol)"
   ]
  },
  {
   "cell_type": "code",
   "execution_count": 26,
   "metadata": {},
   "outputs": [
    {
     "name": "stdout",
     "output_type": "stream",
     "text": [
      "You loaded data for 2011.\n",
      "Your data include the following unused variables that will be ignored:\n",
      "  elderly_dependent\n",
      "Tax-Calculator startup automatically extrapolated your data to 2013.\n"
     ]
    }
   ],
   "source": [
    "# Reform calculator\n",
    "calc1 = tc.Calculator(records = tc.Records(), policy = pol1)"
   ]
  },
  {
   "cell_type": "code",
   "execution_count": 27,
   "metadata": {},
   "outputs": [],
   "source": [
    "# Loop through years and get expected values\n",
    "expected_str = 'Tax-Calculator'\n",
    "for year in range(2013,2017):\n",
    "# baseline\n",
    "    calc.advance_to_year(year)\n",
    "    calc.calc_all()\n",
    "    calcdf = calc.dataframe(['iitax', 's006'])\n",
    "# reform\n",
    "    calc1.advance_to_year(year)\n",
    "    calc1.calc_all()\n",
    "    calcdf1 = calc1.dataframe(['iitax', 's006'])\n",
    "    diff = ((calcdf1['iitax'] * calcdf1['s006'] - calcdf['iitax'] * calcdf['s006'])).sum()\n",
    "    diffstr = \",{:.1f}\".format(diff / 1e9)\n",
    "    expected_str += diffstr"
   ]
  },
  {
   "cell_type": "code",
   "execution_count": 28,
   "metadata": {},
   "outputs": [
    {
     "data": {
      "text/plain": [
       "'Tax-Calculator,-1.8,-1.3,-0.9,-0.7'"
      ]
     },
     "execution_count": 28,
     "metadata": {},
     "output_type": "execute_result"
    }
   ],
   "source": [
    "expected_str"
   ]
  }
 ],
 "metadata": {
  "kernelspec": {
   "display_name": "Python 3",
   "language": "python",
   "name": "python3"
  },
  "language_info": {
   "codemirror_mode": {
    "name": "ipython",
    "version": 3
   },
   "file_extension": ".py",
   "mimetype": "text/x-python",
   "name": "python",
   "nbconvert_exporter": "python",
   "pygments_lexer": "ipython3",
   "version": "3.6.3"
  }
 },
 "nbformat": 4,
 "nbformat_minor": 2
}
